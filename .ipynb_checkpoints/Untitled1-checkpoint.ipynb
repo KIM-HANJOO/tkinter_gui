{
 "cells": [
  {
   "cell_type": "code",
   "execution_count": 11,
   "id": "d27e48c0",
   "metadata": {},
   "outputs": [],
   "source": [
    "import tkinter as tk\n",
    "from tkinter import ttk\n",
    "import pandas as pd\n",
    "import numpy as np\n",
    "\n",
    "\n",
    "root = tk.Tk()\n",
    "root.title('GUI')\n",
    "root.option_add('*tearOff', False)\n",
    "\n",
    "root.columnconfigure(index = 0, weight = 1)\n",
    "root.columnconfigure(index = 1, weight = 1)\n",
    "root.columnconfigure(index = 2, weight = 1)\n",
    "root.rowconfigure(index = 0, weight = 1)\n",
    "root.rowconfigure(index = 1, weight = 1)\n",
    "root.rowconfigure(index = 2, weight = 1)\n",
    "\n",
    "#\n",
    "\n",
    "style = ttk.Style(root)\n",
    "root.tk.call('source', 'forest-dark.tcl')\n",
    "style.theme_use('forest-dark')\n",
    "\n",
    "# Create control variables\n",
    "a = tk.BooleanVar()\n",
    "b = tk.BooleanVar(value=True)\n",
    "c = tk.BooleanVar()\n",
    "d = tk.IntVar(value=2)\n",
    "# e = tk.StringVar(value=option_menu_list[1])\n",
    "f = tk.BooleanVar()\n",
    "g = tk.DoubleVar(value=75.0)\n",
    "h = tk.BooleanVar()\n",
    "\n",
    "## checkbox\n",
    "check_frame = ttk.LabelFrame(root, text=\"Checkbuttons\", padding=(20, 10))\n",
    "check_frame.grid(row=0, column=0, padx=(20, 10), pady=(20, 10), sticky=\"nsew\")\n",
    "\n",
    "check1 = ttk.Checkbutton(check_frame, text = 'practice1', variable = b)\n",
    "check1.grid(row = 0, column = 0, padx = 5, pady = 10, sticky = 'nsew')\n",
    "\n",
    "check2 = ttk.Checkbutton(check_frame, text = 'practice2', variable = a)\n",
    "check2.grid(row = 0, column = 1, padx = 5, pady = 10, sticky = 'nsew')\n",
    "\n",
    "check3 = ttk.Checkbutton(check_frame, text = 'qualifing', variable = a)\n",
    "check3.grid(row = 0, column = 2, padx = 5, pady = 10, sticky = 'nsew')\n",
    "\n",
    "check4 = ttk.Checkbutton(check_frame, text = 'race', variable = a)\n",
    "check4.grid(row = 0, column = 3, padx = 5, pady = 10, sticky = 'nsew')\n",
    "\n",
    "\n",
    "\n",
    "\n",
    "root.mainloop()"
   ]
  },
  {
   "cell_type": "code",
   "execution_count": null,
   "id": "c9bb689b",
   "metadata": {},
   "outputs": [],
   "source": []
  }
 ],
 "metadata": {
  "kernelspec": {
   "display_name": "Python 3 (ipykernel)",
   "language": "python",
   "name": "python3"
  },
  "language_info": {
   "codemirror_mode": {
    "name": "ipython",
    "version": 3
   },
   "file_extension": ".py",
   "mimetype": "text/x-python",
   "name": "python",
   "nbconvert_exporter": "python",
   "pygments_lexer": "ipython3",
   "version": "3.9.6"
  }
 },
 "nbformat": 4,
 "nbformat_minor": 5
}
